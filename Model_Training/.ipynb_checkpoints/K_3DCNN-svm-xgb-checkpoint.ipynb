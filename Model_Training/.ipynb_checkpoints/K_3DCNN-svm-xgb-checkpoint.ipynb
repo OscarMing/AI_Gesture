{
 "cells": [
  {
   "cell_type": "code",
   "execution_count": 1,
   "metadata": {},
   "outputs": [],
   "source": [
    "import matplotlib.pyplot as plt\n",
    "import numpy as np\n",
    "import pandas as pd\n",
    "import os\n",
    "import cv2\n",
    "import math\n",
    "import scipy.io as sio\n",
    "import tensorflow as tf\n",
    "import time\n",
    "from time import ctime\n",
    "from tqdm import tqdm\n",
    "from sklearn.utils import shuffle\n",
    "from tensorflow.keras.utils import to_categorical\n",
    "\n",
    "os.environ[\"CUDA_VISIBLE_DEVICES\"] = \"0\""
   ]
  },
  {
   "cell_type": "code",
   "execution_count": 2,
   "metadata": {},
   "outputs": [
    {
     "name": "stdout",
     "output_type": "stream",
     "text": [
      "[PhysicalDevice(name='/physical_device:GPU:0', device_type='GPU')]\n"
     ]
    }
   ],
   "source": [
    "# Check GPU\n",
    "physical_devices = tf.config.experimental.list_physical_devices('GPU')\n",
    "print(physical_devices)\n",
    "\n",
    "assert len(physical_devices) > 0, \"Not enough GPU hardware devices available\"\n",
    "tf.config.experimental.set_memory_growth(physical_devices[0], True)\n",
    "# tf.config.experimental.set_memory_growth(physical_devices[1], True)"
   ]
  },
  {
   "cell_type": "code",
   "execution_count": 3,
   "metadata": {},
   "outputs": [],
   "source": [
    "import tensorflow.keras as keras\n",
    "from tensorflow.keras.preprocessing.image import ImageDataGenerator\n",
    "from tensorflow.keras.models import Model, load_model\n",
    "from tensorflow.keras.layers import (Input, Dense, Dropout, Activation,\n",
    "                                     Flatten, BatchNormalization, Conv3D,\n",
    "                                     MaxPooling3D,ZeroPadding3D)\n",
    "from tensorflow.keras.utils import multi_gpu_model"
   ]
  },
  {
   "cell_type": "code",
   "execution_count": 4,
   "metadata": {},
   "outputs": [],
   "source": [
    "with open('./list/c3d_train002.txt', 'r') as f:\n",
    "# with open('./list/c3d_train001.txt', 'r') as f:\n",
    "        lines = f.read().split('\\n')\n",
    "tr_files = [line for line in lines if len(line) > 0]\n",
    "tr_files = shuffle(tr_files)"
   ]
  },
  {
   "cell_type": "code",
   "execution_count": null,
   "metadata": {},
   "outputs": [],
   "source": []
  },
  {
   "cell_type": "code",
   "execution_count": 5,
   "metadata": {},
   "outputs": [],
   "source": [
    "X_trainDataset = []\n",
    "Y_trainDataset = []\n",
    "FRAMES = 16\n",
    "for idx, tr_file in enumerate(tr_files):\n",
    "    # print(tr_file.split(' '))\n",
    "    path, frm, cls = tr_file.split(' ')\n",
    "\n",
    "    A = [0,0,0,0,0,0,1,2,3,4,5,6,7,8,9,10]\n",
    "    B = [int(frm)-10, int(frm)-10, int(frm)-9, int(frm)-8, int(frm)-7, int(frm)-6, int(frm)-5, int(frm)-4, int(frm)-3, int(frm)-2,  \n",
    "         int(frm)-1, int(frm)-1, int(frm)-1,int(frm)-1, int(frm)-1, int(frm)-1]\n",
    "    \n",
    "    X_trainDataset.append([ path + 'frm_%06d.jpg' % (f + 1) for f in A])\n",
    "    Y_trainDataset.append(cls)\n",
    "    X_trainDataset.append([ path + 'frm_%06d.jpg' % (f + 1) for f in B])\n",
    "    Y_trainDataset.append(cls)\n",
    "    X_trainDataset.append([ path + 'frm_%06d.jpg' % (f + 1) for f in range(0, 0 + FRAMES)])\n",
    "    Y_trainDataset.append(cls)\n",
    "    X_trainDataset.append([ path + 'frm_%06d.jpg' % (f + 1) for f in range((int(frm)//2) - 8, (int(frm)//2) + 8)])\n",
    "    Y_trainDataset.append(cls)\n",
    "    X_trainDataset.append([ path + 'frm_%06d.jpg' % (f + 1) for f in range(int(frm)-FRAMES - 0, int(frm) - 0)])\n",
    "    Y_trainDataset.append(cls)"
   ]
  },
  {
   "cell_type": "code",
   "execution_count": 6,
   "metadata": {},
   "outputs": [
    {
     "name": "stdout",
     "output_type": "stream",
     "text": [
      "60060\n",
      "60060\n"
     ]
    }
   ],
   "source": [
    "print(len(X_trainDataset))\n",
    "print(len(Y_trainDataset))"
   ]
  },
  {
   "cell_type": "code",
   "execution_count": 7,
   "metadata": {},
   "outputs": [],
   "source": [
    "from tqdm import tqdm\n",
    "idx = 0\n",
    "rf = []\n",
    "ud = []\n",
    "rfb = []\n",
    "udb = []\n",
    "def rescale_img(data_list):\n",
    "    st = time.time()\n",
    "    realDataset = []\n",
    "    for i in tqdm(data_list):\n",
    "        cubedata = []\n",
    "        # print(type(i))\n",
    "        for j in i:\n",
    "            # print(j)\n",
    "            img = cv2.imread(j)[:, :, ::-1]\n",
    "            height, width = 128, 171\n",
    "            scale = 136\n",
    "            img = cv2.resize(img, (width, height), interpolation = cv2.INTER_LINEAR)\n",
    "            off_h = abs(np.ceil((height - scale) / 2).astype(int))\n",
    "            off_w = abs(np.ceil((width - scale) / 2).astype(int))\n",
    "            img = img[off_h:off_h + scale, off_w:off_w + scale, :]\n",
    "            img = cv2.resize(img, (112, 112), interpolation = cv2.INTER_LINEAR)\n",
    "            \n",
    "            ycrcb = cv2.cvtColor(img, cv2.COLOR_BGR2YCR_CB)\n",
    "            channels = cv2.split(ycrcb)\n",
    "            cv2.equalizeHist(channels[0],channels[0])\n",
    "            cv2.merge(channels,ycrcb)\n",
    "            img = cv2.cvtColor(ycrcb, cv2.COLOR_YCR_CB2BGR)\n",
    "\n",
    "            edge = cv2.Laplacian(img, cv2.CV_64F)\n",
    "            edge_x = cv2.Sobel(img, cv2.CV_16S, 1,0)\n",
    "            edge_y = cv2.Sobel(img, cv2.CV_16S, 0,1)\n",
    "            sharp = img -0.7 * edge+ 0.15* edge_x + 0.15* edge_y\n",
    "            sharp[sharp > 255] = 255\n",
    "            sharp[sharp < 0] = 0\n",
    "            SHARP = sharp.astype('uint8')\n",
    "            \n",
    "            cubedata.append(SHARP)\n",
    "            # cubedata.append(img)\n",
    "            \n",
    "        # Random flip\n",
    "        is_flip_rf = np.random.rand(1, 1).squeeze() > 0.5\n",
    "        rfb.append(is_flip_rf)\n",
    "        \n",
    "        is_flip_ud = np.random.rand(1, 1).squeeze() > 0.5\n",
    "        udb.append(is_flip_ud)\n",
    "        \n",
    "        if is_flip_rf and not(is_flip_ud):\n",
    "            voxel = np.flip(cubedata, axis=2)\n",
    "            rf.append(idx)\n",
    "        elif not(is_flip_rf) and is_flip_ud:\n",
    "            voxel = np.flip(cubedata, axis=1)\n",
    "            ud.append(idx)\n",
    "        elif not(is_flip_rf) and not(is_flip_ud):\n",
    "            voxel = cubedata.copy()\n",
    "        elif is_flip_rf and is_flip_ud:\n",
    "            voxel = cubedata.copy()\n",
    "            \n",
    "        realDataset.append(voxel)\n",
    "        idx+=1         \n",
    "            \n",
    "#         realDataset.append(cubedata)\n",
    "    et = time.time()\n",
    "    print((et-st)/60)\n",
    "    # return np.array(realDataset).astype('float32')/1.\n",
    "    return np.array(realDataset)"
   ]
  },
  {
   "cell_type": "code",
   "execution_count": 8,
   "metadata": {},
   "outputs": [
    {
     "name": "stderr",
     "output_type": "stream",
     "text": [
      "100%|██████████| 60060/60060 [33:57<00:00, 29.47it/s]  \n"
     ]
    },
    {
     "name": "stdout",
     "output_type": "stream",
     "text": [
      "33.96504067977269\n"
     ]
    }
   ],
   "source": [
    "X = rescale_img(X_trainDataset)"
   ]
  },
  {
   "cell_type": "code",
   "execution_count": 9,
   "metadata": {},
   "outputs": [
    {
     "data": {
      "text/plain": [
       "(60060, 16, 112, 112, 3)"
      ]
     },
     "execution_count": 9,
     "metadata": {},
     "output_type": "execute_result"
    }
   ],
   "source": [
    "X.shape"
   ]
  },
  {
   "cell_type": "code",
   "execution_count": 10,
   "metadata": {},
   "outputs": [
    {
     "data": {
      "image/png": "[encoded data removed]",
      "text/plain": [
       "<Figure size 432x288 with 1 Axes>"
      ]
     },
     "metadata": {
      "needs_background": "light"
     },
     "output_type": "display_data"
    }
   ],
   "source": [
    "plt.imshow(X[0][10])\n",
    "plt.show()"
   ]
  },
  {
   "cell_type": "code",
   "execution_count": null,
   "metadata": {},
   "outputs": [],
   "source": [
    "flip_i = 0\n",
    "for k,v in enumerate(rfb):\n",
    "    if v and not(udb[k]):\n",
    "#         print(k,v,udb[k])\n",
    "        flip_i+=1\n",
    "    elif not(v) and udb[k]:\n",
    "#         print(k,v,udb[k])\n",
    "        flip_i+=1\n",
    "# for k,v in enumerate(ud):\n",
    "#     if v:\n",
    "#         print(k)   \n",
    "print(flip_i)\n",
    "print(len(rf))\n",
    "print(len(ud))"
   ]
  },
  {
   "cell_type": "code",
   "execution_count": null,
   "metadata": {},
   "outputs": [],
   "source": [
    "# change class mapping\n",
    "rf_map = {'0':'1','1':'0','2':'2','3':'3','4':'5','5':'4'}\n",
    "\n",
    "ud_map = {'0':'0','1':'1','2':'3','3':'2','4':'4','5':'5'}\n",
    "\n",
    "for vrf in rf:\n",
    "    print(Y_trainDataset[vrf])\n",
    "    Y_trainDataset[vrf] = rf_map[str(Y_trainDataset[vrf])]\n",
    "    print(Y_trainDataset[vrf])\n",
    "for vud in ud:\n",
    "    print(Y_trainDataset[vud])\n",
    "    Y_trainDataset[vud] = ud_map[str(Y_trainDataset[vud])]\n",
    "    print(Y_trainDataset[vud])"
   ]
  },
  {
   "cell_type": "code",
   "execution_count": null,
   "metadata": {},
   "outputs": [],
   "source": []
  },
  {
   "cell_type": "code",
   "execution_count": 11,
   "metadata": {},
   "outputs": [
    {
     "data": {
      "text/plain": [
       "array([[0., 0., 0., 0., 0., 1.],\n",
       "       [0., 0., 0., 0., 0., 1.],\n",
       "       [0., 0., 0., 0., 0., 1.],\n",
       "       ...,\n",
       "       [0., 0., 0., 0., 0., 1.],\n",
       "       [0., 0., 0., 0., 0., 1.],\n",
       "       [0., 0., 0., 0., 0., 1.]], dtype=float32)"
      ]
     },
     "execution_count": 11,
     "metadata": {},
     "output_type": "execute_result"
    }
   ],
   "source": [
    "y = np.array(Y_trainDataset)\n",
    "Y = to_categorical(y,)\n",
    "Y"
   ]
  },
  {
   "cell_type": "code",
   "execution_count": 12,
   "metadata": {},
   "outputs": [],
   "source": [
    "from sklearn.model_selection import train_test_split"
   ]
  },
  {
   "cell_type": "code",
   "execution_count": 13,
   "metadata": {},
   "outputs": [],
   "source": [
    "x_train, x_test, y_train, y_test= train_test_split(X,Y,test_size=0.2, random_state=42)"
   ]
  },
  {
   "cell_type": "code",
   "execution_count": 14,
   "metadata": {},
   "outputs": [
    {
     "name": "stdout",
     "output_type": "stream",
     "text": [
      "(48048, 16, 112, 112, 3)\n",
      "(12012, 16, 112, 112, 3)\n",
      "(48048, 6)\n",
      "(12012, 6)\n"
     ]
    }
   ],
   "source": [
    "print(x_train.shape)\n",
    "print(x_test.shape)\n",
    "\n",
    "print(y_train.shape)\n",
    "print(y_test.shape)"
   ]
  },
  {
   "cell_type": "code",
   "execution_count": null,
   "metadata": {},
   "outputs": [],
   "source": []
  },
  {
   "cell_type": "code",
   "execution_count": 15,
   "metadata": {},
   "outputs": [],
   "source": [
    "# load val data and "
   ]
  },
  {
   "cell_type": "code",
   "execution_count": 16,
   "metadata": {},
   "outputs": [],
   "source": [
    "with open('./list/c3d_val02.txt', 'r') as f:\n",
    "        lines = f.read().split('\\n')\n",
    "val_files = [line for line in lines if len(line) > 0]\n",
    "val_files = shuffle(val_files)"
   ]
  },
  {
   "cell_type": "code",
   "execution_count": 17,
   "metadata": {},
   "outputs": [
    {
     "data": {
      "text/plain": [
       "3000"
      ]
     },
     "execution_count": 17,
     "metadata": {},
     "output_type": "execute_result"
    }
   ],
   "source": [
    "len(val_files)"
   ]
  },
  {
   "cell_type": "code",
   "execution_count": 18,
   "metadata": {},
   "outputs": [],
   "source": [
    "# put 16 frmae of every validate folder into list\n",
    "X_validateDataset = []\n",
    "Y_validateDataset = []\n",
    "FRAMES = 16\n",
    "for idx, val_file in enumerate(val_files):\n",
    "    path, st, cls, frm = val_file.split(' ')\n",
    "    X_validateDataset.append([ path + 'frm_%06d.jpg' % (f + 1) for f in range((int(frm)//2)-8, (int(frm)//2)+8)])\n",
    "    Y_validateDataset.append(cls)\n",
    "    "
   ]
  },
  {
   "cell_type": "code",
   "execution_count": 19,
   "metadata": {},
   "outputs": [
    {
     "data": {
      "text/plain": [
       "3000"
      ]
     },
     "execution_count": 19,
     "metadata": {},
     "output_type": "execute_result"
    }
   ],
   "source": [
    "# X_validateDataset[0:3]\n",
    "# Y_validateDataset[0:3]\n",
    "len(X_validateDataset)"
   ]
  },
  {
   "cell_type": "code",
   "execution_count": 20,
   "metadata": {},
   "outputs": [],
   "source": [
    "from tqdm import tqdm\n",
    "def validate_rescale_img(data_list):\n",
    "    st = time.time()\n",
    "    realDataset = []\n",
    "    for i in tqdm(data_list):\n",
    "        cubedata = []\n",
    "        # print(type(i))\n",
    "        for j in i:\n",
    "            # print(j)\n",
    "            img = cv2.imread(j)[:, :, ::-1]\n",
    "            height, width = 128, 171\n",
    "            scale = 136\n",
    "            img = cv2.resize(img, (width, height), interpolation = cv2.INTER_LINEAR)\n",
    "            off_h = abs(np.ceil((height - scale) / 2).astype(int))\n",
    "            off_w = abs(np.ceil((width - scale) / 2).astype(int))\n",
    "            img = img[off_h:off_h + scale, off_w:off_w + scale, :]\n",
    "            img = cv2.resize(img, (112, 112), interpolation = cv2.INTER_LINEAR)\n",
    "\n",
    "            cubedata.append(img)\n",
    "\n",
    "        realDataset.append(cubedata)\n",
    "    et = time.time()\n",
    "    print((et-st)/60)\n",
    "    return np.array(realDataset)"
   ]
  },
  {
   "cell_type": "code",
   "execution_count": 21,
   "metadata": {},
   "outputs": [
    {
     "name": "stderr",
     "output_type": "stream",
     "text": [
      "100%|██████████| 3000/3000 [01:11<00:00, 42.04it/s]\n"
     ]
    },
    {
     "name": "stdout",
     "output_type": "stream",
     "text": [
      "1.1894386172294618\n"
     ]
    }
   ],
   "source": [
    "x_val = validate_rescale_img(X_validateDataset)"
   ]
  },
  {
   "cell_type": "code",
   "execution_count": 22,
   "metadata": {},
   "outputs": [
    {
     "data": {
      "text/plain": [
       "(3000, 16, 112, 112, 3)"
      ]
     },
     "execution_count": 22,
     "metadata": {},
     "output_type": "execute_result"
    }
   ],
   "source": [
    "x_val.shape"
   ]
  },
  {
   "cell_type": "code",
   "execution_count": 23,
   "metadata": {},
   "outputs": [
    {
     "data": {
      "image/png": "[encoded data removed]",
      "text/plain": [
       "<Figure size 432x288 with 1 Axes>"
      ]
     },
     "metadata": {
      "needs_background": "light"
     },
     "output_type": "display_data"
    }
   ],
   "source": [
    "plt.imshow(x_val[0][10])\n",
    "plt.show()"
   ]
  },
  {
   "cell_type": "code",
   "execution_count": 24,
   "metadata": {},
   "outputs": [],
   "source": [
    "y_val = np.array(Y_validateDataset)\n",
    "y_val = to_categorical(y_val,)"
   ]
  },
  {
   "cell_type": "code",
   "execution_count": 25,
   "metadata": {},
   "outputs": [
    {
     "name": "stdout",
     "output_type": "stream",
     "text": [
      "(3000, 16, 112, 112, 3)\n",
      "(3000, 6)\n"
     ]
    }
   ],
   "source": [
    "print(x_val.shape)\n",
    "print(y_val.shape)"
   ]
  },
  {
   "cell_type": "code",
   "execution_count": null,
   "metadata": {},
   "outputs": [],
   "source": []
  },
  {
   "cell_type": "code",
   "execution_count": null,
   "metadata": {},
   "outputs": [],
   "source": [
    "# Load 3DCNN Model"
   ]
  },
  {
   "cell_type": "code",
   "execution_count": 26,
   "metadata": {},
   "outputs": [],
   "source": [
    "from tensorflow.keras.models import load_model"
   ]
  },
  {
   "cell_type": "code",
   "execution_count": 27,
   "metadata": {},
   "outputs": [],
   "source": [
    "new_model = load_model('./Model/model-logs/basic_model-best-model-2020-10-11_16-41-12.h5')\n",
    "# new_model = load_model('./Model/model-logs/basic_model-best-model-2020-10-09_20-11-11.h5')\n",
    "# new_model = load_model('./Model/model-logs/basic_model-best-model-2020-10-08_17-28-03.h5')\n",
    "# new_model = load_model('./Model/model-logs/basic_model-best-model-rlf.h5')\n",
    "# new_model = load_model('./Model/model-logs/basic_model-best-model.h5')"
   ]
  },
  {
   "cell_type": "code",
   "execution_count": 28,
   "metadata": {},
   "outputs": [
    {
     "name": "stdout",
     "output_type": "stream",
     "text": [
      "Model: \"model\"\n",
      "_________________________________________________________________\n",
      "Layer (type)                 Output Shape              Param #   \n",
      "=================================================================\n",
      "input_2 (InputLayer)         [(None, 16, 112, 112, 3)] 0         \n",
      "_________________________________________________________________\n",
      "tf_op_layer_sub_1 (TensorFlo (None, 16, 112, 112, 3)   0         \n",
      "_________________________________________________________________\n",
      "conv3d_4 (Conv3D)            (None, 16, 112, 112, 64)  5248      \n",
      "_________________________________________________________________\n",
      "max_pooling3d_2 (MaxPooling3 (None, 16, 56, 56, 64)    0         \n",
      "_________________________________________________________________\n",
      "conv3d_5 (Conv3D)            (None, 16, 56, 56, 128)   221312    \n",
      "_________________________________________________________________\n",
      "max_pooling3d_3 (MaxPooling3 (None, 8, 28, 28, 128)    0         \n",
      "_________________________________________________________________\n",
      "conv3d_6 (Conv3D)            (None, 8, 28, 28, 256)    884992    \n",
      "_________________________________________________________________\n",
      "spatial_dropout3d_1 (Spatial (None, 8, 28, 28, 256)    0         \n",
      "_________________________________________________________________\n",
      "conv3d_7 (Conv3D)            (None, 8, 28, 28, 256)    1769728   \n",
      "_________________________________________________________________\n",
      "max_pooling3d_4 (MaxPooling3 (None, 4, 14, 14, 256)    0         \n",
      "_________________________________________________________________\n",
      "conv3d_8 (Conv3D)            (None, 4, 14, 14, 512)    3539456   \n",
      "_________________________________________________________________\n",
      "spatial_dropout3d_2 (Spatial (None, 4, 14, 14, 512)    0         \n",
      "_________________________________________________________________\n",
      "conv3d_9 (Conv3D)            (None, 4, 14, 14, 512)    7078400   \n",
      "_________________________________________________________________\n",
      "max_pooling3d_5 (MaxPooling3 (None, 2, 7, 7, 512)      0         \n",
      "_________________________________________________________________\n",
      "zero_padding3d (ZeroPadding3 (None, 4, 9, 9, 512)      0         \n",
      "_________________________________________________________________\n",
      "conv3d_10 (Conv3D)           (None, 2, 7, 7, 512)      7078400   \n",
      "_________________________________________________________________\n",
      "zero_padding3d_1 (ZeroPaddin (None, 4, 9, 9, 512)      0         \n",
      "_________________________________________________________________\n",
      "conv3d_11 (Conv3D)           (None, 2, 7, 7, 512)      7078400   \n",
      "_________________________________________________________________\n",
      "max_pooling3d_6 (MaxPooling3 (None, 1, 4, 4, 512)      0         \n",
      "_________________________________________________________________\n",
      "flatten (Flatten)            (None, 8192)              0         \n",
      "_________________________________________________________________\n",
      "dense (Dense)                (None, 4096)              33558528  \n",
      "_________________________________________________________________\n",
      "dropout (Dropout)            (None, 4096)              0         \n",
      "_________________________________________________________________\n",
      "dense_1 (Dense)              (None, 4096)              16781312  \n",
      "_________________________________________________________________\n",
      "dropout_1 (Dropout)          (None, 4096)              0         \n",
      "_________________________________________________________________\n",
      "dense_2 (Dense)              (None, 6)                 24582     \n",
      "=================================================================\n",
      "Total params: 78,020,358\n",
      "Trainable params: 78,020,358\n",
      "Non-trainable params: 0\n",
      "_________________________________________________________________\n"
     ]
    }
   ],
   "source": [
    "new_model.summary()"
   ]
  },
  {
   "cell_type": "code",
   "execution_count": 29,
   "metadata": {},
   "outputs": [],
   "source": [
    "# Get flatten layer values\n",
    "model_feat = Model(inputs = new_model.input, outputs = new_model.get_layer('flatten').output)\n",
    "\n",
    "# Get dense layer values\n",
    "# model_feat = Model(inputs = new_model.input, outputs = new_model.get_layer('dense').output)"
   ]
  },
  {
   "cell_type": "code",
   "execution_count": 30,
   "metadata": {},
   "outputs": [
    {
     "name": "stdout",
     "output_type": "stream",
     "text": [
      "(48048, 8192)\n",
      "(12012, 8192)\n",
      "(3000, 8192)\n"
     ]
    }
   ],
   "source": [
    "feat_train = model_feat.predict(x_train)\n",
    "print(feat_train.shape)\n",
    "\n",
    "# feat_train = model_feat.predict(X)\n",
    "# print(feat_train.shape)\n",
    "\n",
    "feat_test = model_feat.predict(x_test)\n",
    "print(feat_test.shape)\n",
    "\n",
    "feat_val = model_feat.predict(x_val)\n",
    "print(feat_val.shape)"
   ]
  },
  {
   "cell_type": "code",
   "execution_count": 31,
   "metadata": {},
   "outputs": [
    {
     "name": "stdout",
     "output_type": "stream",
     "text": [
      "Tue Oct 13 21:24:10 2020\n",
      "fitting done !!!\n",
      "Tue Oct 13 23:21:14 2020\n"
     ]
    }
   ],
   "source": [
    "from sklearn.svm import SVC\n",
    "\n",
    "svm = SVC(kernel='rbf',gamma = 'scale',degree = 7)\n",
    "print(ctime())\n",
    "svm.fit(feat_train,np.argmax(y_train,axis=1))\n",
    "# svm.fit(feat_train,np.argmax(Y,axis=1))\n",
    "\n",
    "print('fitting done !!!')\n",
    "print(ctime())"
   ]
  },
  {
   "cell_type": "code",
   "execution_count": 32,
   "metadata": {},
   "outputs": [
    {
     "name": "stdout",
     "output_type": "stream",
     "text": [
      "Tue Oct 13 23:21:14 2020\n",
      "0.9150224775224776\n",
      "Wed Oct 14 01:42:22 2020\n"
     ]
    }
   ],
   "source": [
    "print(ctime())\n",
    "print(svm.score(feat_train,np.argmax(y_train,axis=1)))\n",
    "# svm.score(feat_train,np.argmax(Y,axis=1))\n",
    "print(ctime())\n",
    "# 0.980625 auto 5\n",
    "# 0.9789583333333334 scale 5\n",
    "\n",
    "# 0.9150224775224776 scale 7"
   ]
  },
  {
   "cell_type": "code",
   "execution_count": 33,
   "metadata": {},
   "outputs": [
    {
     "name": "stdout",
     "output_type": "stream",
     "text": [
      "Wed Oct 14 01:42:22 2020\n",
      "0.8818681318681318\n",
      "Wed Oct 14 02:14:24 2020\n"
     ]
    }
   ],
   "source": [
    "print(ctime())\n",
    "print(svm.score(feat_test,np.argmax(y_test,axis=1)))\n",
    "print(ctime())\n",
    "# 0.9727777777777777 auto 5\n",
    "# 0.9733333333333334 scale 5\n",
    "\n",
    "# 0.8818681318681318 scale 7"
   ]
  },
  {
   "cell_type": "code",
   "execution_count": 34,
   "metadata": {},
   "outputs": [
    {
     "name": "stdout",
     "output_type": "stream",
     "text": [
      "Wed Oct 14 02:14:24 2020\n",
      "0.925\n",
      "Wed Oct 14 02:22:25 2020\n"
     ]
    }
   ],
   "source": [
    "print(ctime())\n",
    "print(svm.score(feat_val,np.argmax(y_val,axis=1)))\n",
    "print(ctime())\n",
    "# 0.8183333333333334 auto 5\n",
    "# 0.8216666666666667 scale 5\n",
    "\n",
    "# 0.925 scale 7"
   ]
  },
  {
   "cell_type": "code",
   "execution_count": null,
   "metadata": {},
   "outputs": [],
   "source": []
  },
  {
   "cell_type": "code",
   "execution_count": 35,
   "metadata": {},
   "outputs": [],
   "source": [
    "import pickle"
   ]
  },
  {
   "cell_type": "code",
   "execution_count": 36,
   "metadata": {},
   "outputs": [],
   "source": [
    "with open('./ML_model/svm_1011_flatten.pickle', 'wb') as f:\n",
    "    pickle.dump(svm, f)"
   ]
  },
  {
   "cell_type": "code",
   "execution_count": null,
   "metadata": {},
   "outputs": [],
   "source": []
  },
  {
   "cell_type": "code",
   "execution_count": null,
   "metadata": {},
   "outputs": [],
   "source": []
  },
  {
   "cell_type": "code",
   "execution_count": 37,
   "metadata": {},
   "outputs": [
    {
     "name": "stdout",
     "output_type": "stream",
     "text": [
      "Wed Oct 14 02:22:27 2020\n",
      "fitting done !!!\n",
      "Wed Oct 14 04:21:47 2020\n"
     ]
    }
   ],
   "source": [
    "import xgboost as xgb\n",
    "print(ctime())\n",
    "xb = xgb.XGBClassifier()\n",
    "xb.fit(feat_train,np.argmax(y_train,axis=1))\n",
    "print('fitting done !!!')\n",
    "print(ctime())"
   ]
  },
  {
   "cell_type": "code",
   "execution_count": 38,
   "metadata": {},
   "outputs": [
    {
     "name": "stdout",
     "output_type": "stream",
     "text": [
      "Wed Oct 14 04:21:47 2020\n",
      "0.8357267732267732\n",
      "Wed Oct 14 04:21:55 2020\n"
     ]
    }
   ],
   "source": [
    "print(ctime())\n",
    "print(xb.score(feat_train,np.argmax(y_train,axis=1)))\n",
    "print(ctime())\n",
    "# 0.8357267732267732"
   ]
  },
  {
   "cell_type": "code",
   "execution_count": 39,
   "metadata": {},
   "outputs": [
    {
     "name": "stdout",
     "output_type": "stream",
     "text": [
      "Wed Oct 14 04:21:55 2020\n",
      "0.8177655677655677\n",
      "Wed Oct 14 04:21:57 2020\n"
     ]
    }
   ],
   "source": [
    "print(ctime())\n",
    "print(xb.score(feat_test,np.argmax(y_test,axis=1)))\n",
    "print(ctime())\n",
    "# 0.8177655677655677"
   ]
  },
  {
   "cell_type": "code",
   "execution_count": 40,
   "metadata": {},
   "outputs": [
    {
     "name": "stdout",
     "output_type": "stream",
     "text": [
      "Wed Oct 14 04:21:57 2020\n",
      "0.882\n",
      "Wed Oct 14 04:21:57 2020\n"
     ]
    }
   ],
   "source": [
    "print(ctime())\n",
    "print(xb.score(feat_val,np.argmax(y_val,axis=1)))\n",
    "print(ctime())\n",
    "# 0.882"
   ]
  },
  {
   "cell_type": "code",
   "execution_count": 41,
   "metadata": {},
   "outputs": [],
   "source": [
    "with open('./ML_model/xgb_1011_flatten.pickle', 'wb') as f:\n",
    "    pickle.dump(xb, f)"
   ]
  },
  {
   "cell_type": "code",
   "execution_count": null,
   "metadata": {},
   "outputs": [],
   "source": []
  }
 ],
 "metadata": {
  "kernelspec": {
   "display_name": "Python 3",
   "language": "python",
   "name": "python3"
  },
  "language_info": {
   "codemirror_mode": {
    "name": "ipython",
    "version": 3
   },
   "file_extension": ".py",
   "mimetype": "text/x-python",
   "name": "python",
   "nbconvert_exporter": "python",
   "pygments_lexer": "ipython3",
   "version": "3.7.3"
  }
 },
 "nbformat": 4,
 "nbformat_minor": 4
}
