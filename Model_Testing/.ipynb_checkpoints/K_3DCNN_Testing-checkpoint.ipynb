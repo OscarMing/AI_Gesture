{
 "cells": [
  {
   "cell_type": "markdown",
   "metadata": {},
   "source": [
    "### I. Load Model and Use Testing Data"
   ]
  },
  {
   "cell_type": "code",
   "execution_count": 1,
   "metadata": {},
   "outputs": [],
   "source": [
    "import time\n",
    "from tensorflow.keras.models import load_model\n",
    "import numpy as np"
   ]
  },
  {
   "cell_type": "code",
   "execution_count": 2,
   "metadata": {},
   "outputs": [],
   "source": [
    "class Model_3DCNN_K:\n",
    "    \n",
    "    def __init__(self):\n",
    "        try:\n",
    "            self.model = load_model('./Model_Training/Model/model-logs/basic_model-best-model-rlf.h5')\n",
    "            self.predict = []\n",
    "            self.debug = False\n",
    "        except:\n",
    "            print(\"files of model does not exist\")\n",
    "    \n",
    "    def __init__(self, model_path):\n",
    "        self.model = load_model(model_path)\n",
    "        self.predict = []\n",
    "        self.debug = False\n",
    "    \n",
    "    def setDebug(self, flag):\n",
    "        self.debug = flag\n",
    "    \n",
    "    def predict_action(self, data):\n",
    "        \"\"\"data shape:(1, 16, 112, 112, 3)\"\"\"\n",
    "        \n",
    "        x = data.astype('float32')\n",
    "        label = -1\n",
    "#         if data != None:\n",
    "        if data.shape[0] !=16 :\n",
    "            st = time.time()\n",
    "            self.predict = self.model.predict(x)[0]\n",
    "\n",
    "            label = np.argmax(self.predict)\n",
    "            et = time.time()\n",
    "            tt = et-st\n",
    "            if self.debug:\n",
    "                print(label)\n",
    "                print(self.predict)\n",
    "                print(tt)\n",
    "#         return label\n",
    "        return self.predict\n",
    "    \n",
    "    def __del__(self):\n",
    "        print('Finish')\n",
    "#         self.session.close()"
   ]
  },
  {
   "cell_type": "code",
   "execution_count": null,
   "metadata": {},
   "outputs": [],
   "source": []
  },
  {
   "cell_type": "code",
   "execution_count": 3,
   "metadata": {},
   "outputs": [],
   "source": [
    "# load model from path \"../Model_Training/Model/model-logs/\"\n",
    "model = Model_3DCNN_K('../Model_Training/Model/model-logs/basic_model-best-model-rlf.h5')"
   ]
  },
  {
   "cell_type": "code",
   "execution_count": 4,
   "metadata": {},
   "outputs": [
    {
     "data": {
      "text/plain": [
       "(16, 256, 256, 3)"
      ]
     },
     "execution_count": 4,
     "metadata": {},
     "output_type": "execute_result"
    }
   ],
   "source": [
    "# read testdata folder image, and resize\n",
    "import cv2\n",
    "import matplotlib.pyplot as plt\n",
    "import os\n",
    "\n",
    "im = []\n",
    "IM = []\n",
    "\n",
    "outerpath = './testdata/'\n",
    "outerpathlist = os.listdir(outerpath)\n",
    "for i in outerpathlist:\n",
    "    sub_files = os.path.join(outerpath, i)\n",
    "#     print(sub_files)\n",
    "    if 'checkpoints' not in sub_files:\n",
    "        img = cv2.imread(sub_files)[:, :, ::-1]\n",
    "        img = cv2.resize(img, (256, 256), interpolation = cv2.INTER_LINEAR)\n",
    "        im.append(img)\n",
    "\n",
    "# for i in im:\n",
    "#     i = cv2.resize(i, (112, 112), interpolation = cv2.INTER_LINEAR)\n",
    "#     IM.append(i)\n",
    "# IMG = np.array(IM)\n",
    "IMG = np.array(im)\n",
    "IMG.shape"
   ]
  },
  {
   "cell_type": "code",
   "execution_count": 5,
   "metadata": {},
   "outputs": [],
   "source": [
    "import time\n",
    "def get_data():\n",
    "    return IMG"
   ]
  },
  {
   "cell_type": "code",
   "execution_count": 6,
   "metadata": {},
   "outputs": [],
   "source": [
    "def load_model():\n",
    "    cube = get_data()\n",
    "    x_data = []\n",
    "    if not(type(cube) == np.ndarray) and not(cube.shape[0] == 16):\n",
    "        return None\n",
    "    else:\n",
    "        # Resize all img in cube\n",
    "        for img in cube:\n",
    "            img = cv2.resize(img, (112, 112), interpolation = cv2.INTER_LINEAR)\n",
    "            x_data.append(img)\n",
    "        X = np.array(x_data)   \n",
    "#         Add new axis for batch\n",
    "        x_data= X[np.newaxis,:]\n",
    "#     return X_Data\n",
    "    return x_data"
   ]
  },
  {
   "cell_type": "code",
   "execution_count": 7,
   "metadata": {},
   "outputs": [],
   "source": [
    "data = load_model()"
   ]
  },
  {
   "cell_type": "code",
   "execution_count": 8,
   "metadata": {},
   "outputs": [
    {
     "data": {
      "text/plain": [
       "True"
      ]
     },
     "execution_count": 8,
     "metadata": {},
     "output_type": "execute_result"
    }
   ],
   "source": [
    "data.dtype == 'uint8'"
   ]
  },
  {
   "cell_type": "code",
   "execution_count": 9,
   "metadata": {},
   "outputs": [
    {
     "data": {
      "text/plain": [
       "array([8.3171079e-07, 2.5026105e-07, 9.9576002e-01, 4.2366395e-03,\n",
       "       1.5002652e-06, 7.1104114e-07], dtype=float32)"
      ]
     },
     "execution_count": 9,
     "metadata": {},
     "output_type": "execute_result"
    }
   ],
   "source": [
    "model.predict_action(data)"
   ]
  },
  {
   "cell_type": "code",
   "execution_count": 10,
   "metadata": {},
   "outputs": [
    {
     "name": "stdout",
     "output_type": "stream",
     "text": [
      "2\n"
     ]
    }
   ],
   "source": [
    "CLS = np.argmax(model.predict_action(data))\n",
    "print(CLS)"
   ]
  },
  {
   "cell_type": "markdown",
   "metadata": {},
   "source": [
    "### II. Import Model as Package"
   ]
  },
  {
   "cell_type": "code",
   "execution_count": 11,
   "metadata": {},
   "outputs": [],
   "source": [
    "import Keras_Model.K3DCNN as md\n",
    "from tensorflow.keras.models import load_model"
   ]
  },
  {
   "cell_type": "code",
   "execution_count": 12,
   "metadata": {},
   "outputs": [
    {
     "name": "stdout",
     "output_type": "stream",
     "text": [
      "Finish\n"
     ]
    }
   ],
   "source": [
    "# load model from path \"../Model_Training/Model/model-logs/\"\n",
    "model = md.Model_3DCNN_K('../Model_Training/Model/model-logs/basic_model-best-model-rlf.h5')"
   ]
  },
  {
   "cell_type": "code",
   "execution_count": 13,
   "metadata": {},
   "outputs": [
    {
     "data": {
      "text/plain": [
       "(16, 256, 256, 3)"
      ]
     },
     "execution_count": 13,
     "metadata": {},
     "output_type": "execute_result"
    }
   ],
   "source": [
    "# read testdata folder image, and resize\n",
    "import cv2\n",
    "import matplotlib.pyplot as plt\n",
    "import os\n",
    "\n",
    "im = []\n",
    "IM = []\n",
    "\n",
    "outerpath = './testdata/'\n",
    "outerpathlist = os.listdir(outerpath)\n",
    "for i in outerpathlist:\n",
    "    sub_files = os.path.join(outerpath, i)\n",
    "#     print(sub_files)\n",
    "    if 'checkpoints' not in sub_files:\n",
    "        img = cv2.imread(sub_files)[:, :, ::-1]\n",
    "        img = cv2.resize(img, (256, 256), interpolation = cv2.INTER_LINEAR)\n",
    "        im.append(img)\n",
    "\n",
    "# for i in im:\n",
    "#     i = cv2.resize(i, (112, 112), interpolation = cv2.INTER_LINEAR)\n",
    "#     IM.append(i)\n",
    "# IMG = np.array(IM)\n",
    "IMG = np.array(im)\n",
    "IMG.shape"
   ]
  },
  {
   "cell_type": "code",
   "execution_count": 14,
   "metadata": {},
   "outputs": [],
   "source": [
    "import time\n",
    "def get_data():\n",
    "    return IMG"
   ]
  },
  {
   "cell_type": "code",
   "execution_count": 15,
   "metadata": {},
   "outputs": [],
   "source": [
    "def load_model():\n",
    "    cube = get_data()\n",
    "    x_data = []\n",
    "    if not(type(cube) == np.ndarray) and not(cube.shape[0] == 16):\n",
    "        return None\n",
    "    else:\n",
    "        # Resize all img in cube\n",
    "        for img in cube:\n",
    "            img = cv2.resize(img, (112, 112), interpolation = cv2.INTER_LINEAR)\n",
    "            x_data.append(img)\n",
    "        X = np.array(x_data)   \n",
    "#         Add new axis for batch\n",
    "        x_data= X[np.newaxis,:]\n",
    "#     return X_Data\n",
    "    return x_data"
   ]
  },
  {
   "cell_type": "code",
   "execution_count": 16,
   "metadata": {},
   "outputs": [],
   "source": [
    "Data = load_model()"
   ]
  },
  {
   "cell_type": "code",
   "execution_count": 17,
   "metadata": {},
   "outputs": [
    {
     "name": "stdout",
     "output_type": "stream",
     "text": [
      "0.16416025161743164\n",
      "[8.3171079e-07 2.5026105e-07 9.9576002e-01 4.2366395e-03 1.5002652e-06\n",
      " 7.1104114e-07]\n"
     ]
    }
   ],
   "source": [
    "st=time.time()\n",
    "P = model.predict_action(Data)\n",
    "et=time.time()\n",
    "print(et-st)\n",
    "print(P)"
   ]
  },
  {
   "cell_type": "code",
   "execution_count": 18,
   "metadata": {},
   "outputs": [
    {
     "name": "stdout",
     "output_type": "stream",
     "text": [
      "2\n"
     ]
    }
   ],
   "source": [
    "CLS = np.argmax(P)\n",
    "print(CLS)"
   ]
  },
  {
   "cell_type": "code",
   "execution_count": null,
   "metadata": {},
   "outputs": [],
   "source": []
  }
 ],
 "metadata": {
  "kernelspec": {
   "display_name": "Python 3",
   "language": "python",
   "name": "python3"
  },
  "language_info": {
   "codemirror_mode": {
    "name": "ipython",
    "version": 3
   },
   "file_extension": ".py",
   "mimetype": "text/x-python",
   "name": "python",
   "nbconvert_exporter": "python",
   "pygments_lexer": "ipython3",
   "version": "3.7.3"
  }
 },
 "nbformat": 4,
 "nbformat_minor": 4
}
