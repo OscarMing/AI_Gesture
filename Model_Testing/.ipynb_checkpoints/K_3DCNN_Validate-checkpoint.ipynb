{
 "cells": [
  {
   "cell_type": "code",
   "execution_count": 1,
   "metadata": {},
   "outputs": [],
   "source": [
    "# Gesture_cls_map = {\n",
    "#                    'SwipingLeft':0,\n",
    "#                    'SwipingRight':1, \n",
    "#                    'SwipingDown':2, \n",
    "#                    'SwipingUp':3, \n",
    "#                    'TurningHandClockwise':4, \n",
    "#                    'TurningHandCounterclockwise':5\n",
    "#                    }"
   ]
  },
  {
   "cell_type": "code",
   "execution_count": 2,
   "metadata": {},
   "outputs": [],
   "source": [
    "import matplotlib.pyplot as plt\n",
    "import numpy as np\n",
    "import pandas as pd\n",
    "import os\n",
    "import cv2\n",
    "import time\n",
    "from time import ctime\n",
    "from tqdm import tqdm\n",
    "# from sklearn.utils import shuffle\n",
    "from tensorflow.keras.utils import to_categorical"
   ]
  },
  {
   "cell_type": "code",
   "execution_count": 3,
   "metadata": {},
   "outputs": [],
   "source": [
    "with open('./list/c3d_test005.txt', 'r') as f:\n",
    "# with open('./list/c3d_val001.txt', 'r') as f:\n",
    "    lines = f.read().split('\\n')\n",
    "val_files_5 = [line for line in lines if len(line) > 0]"
   ]
  },
  {
   "cell_type": "code",
   "execution_count": 4,
   "metadata": {},
   "outputs": [],
   "source": [
    "X_validateDataset_5 = []\n",
    "Y_validateDataset_5 = []\n",
    "FRAMES = 16\n",
    "for idx, val_file in enumerate(val_files_5):\n",
    "    path, st, cls, frm = val_file.split(' ')\n",
    "    X_validateDataset_5.append([ path + 'frm_%06d.jpg' % (f + 1) for f in range((int(frm)//2)-8, (int(frm)//2)+8)])\n",
    "    Y_validateDataset_5.append(cls)"
   ]
  },
  {
   "cell_type": "code",
   "execution_count": 5,
   "metadata": {},
   "outputs": [],
   "source": [
    "from tqdm import tqdm\n",
    "def validate_rescale_img(data_list):\n",
    "    st = time.time()\n",
    "    realDataset = []\n",
    "    for i in tqdm(data_list):\n",
    "        cubedata = []\n",
    "        # print(type(i))\n",
    "        for j in i:\n",
    "#             print(j)\n",
    "            img = cv2.imread(j)[:, :, ::-1]\n",
    "            height, width = 128, 171\n",
    "            scale = 136\n",
    "            img = cv2.resize(img, (width, height), interpolation = cv2.INTER_LINEAR)\n",
    "            off_h = abs(np.ceil((height - scale) / 2).astype(int))\n",
    "            off_w = abs(np.ceil((width - scale) / 2).astype(int))\n",
    "            img = img[off_h:off_h + scale, off_w:off_w + scale, :]\n",
    "            img = cv2.resize(img, (112, 112), interpolation = cv2.INTER_LINEAR)\n",
    "            \n",
    "            # Turn image to grqy\n",
    "#             img = cv2.cvtColor(img, cv2.COLOR_BGR2GRAY)         \n",
    "#             SS = img[:,:,np.newaxis]\n",
    "#             IM = np.append(SS, SS, axis=2)\n",
    "#             IMG = np.append(IM, SS, axis=2)\n",
    "            \n",
    "#             cubedata.append(IMG)\n",
    "                        \n",
    "\n",
    "            cubedata.append(img)\n",
    "\n",
    "        realDataset.append(cubedata)\n",
    "    et = time.time()\n",
    "    print((et-st)/60)\n",
    "    return np.array(realDataset)"
   ]
  },
  {
   "cell_type": "code",
   "execution_count": 6,
   "metadata": {},
   "outputs": [
    {
     "name": "stderr",
     "output_type": "stream",
     "text": [
      "100%|██████████| 345/345 [02:21<00:00,  2.44it/s]\n"
     ]
    },
    {
     "name": "stdout",
     "output_type": "stream",
     "text": [
      "2.3525781790415445\n"
     ]
    },
    {
     "data": {
      "text/plain": [
       "(345, 16, 112, 112, 3)"
      ]
     },
     "execution_count": 6,
     "metadata": {},
     "output_type": "execute_result"
    }
   ],
   "source": [
    "X_val_5 = validate_rescale_img(X_validateDataset_5)\n",
    "X_val_5.shape"
   ]
  },
  {
   "cell_type": "code",
   "execution_count": 7,
   "metadata": {},
   "outputs": [
    {
     "data": {
      "text/plain": [
       "(345, 6)"
      ]
     },
     "execution_count": 7,
     "metadata": {},
     "output_type": "execute_result"
    }
   ],
   "source": [
    "y_val_5 = np.array(Y_validateDataset_5)\n",
    "Y_val_5 = to_categorical(y_val_5)\n",
    "Y_val_5.shape"
   ]
  },
  {
   "cell_type": "code",
   "execution_count": 8,
   "metadata": {},
   "outputs": [],
   "source": [
    "from tensorflow.keras.models import load_model"
   ]
  },
  {
   "cell_type": "code",
   "execution_count": 10,
   "metadata": {},
   "outputs": [],
   "source": [
    "# 8\n",
    "# batch 32 dual GPU add dropout 4b-5a, 5a-5b\n",
    "# new_model = load_model('/basic_model-best-model-2020-10-18_00-57-57.h5')\n",
    "# 7\n",
    "# batch 64 dual GPU add dropout\n",
    "# new_model = load_model('./model/basic_model-best-model-2020-10-16_10-10-14.h5')\n",
    "# batch 32 dual GPU add dropout\n",
    "# new_model = load_model('./model/basic_model-best-model-2020-10-15_17-17-52.h5')\n",
    "# 6\n",
    "# batch 32 epochs = 50 add dropout\n",
    "# new_model = load_model('./model/basic_model-best-model-2020-10-12_20-28-06.h5')\n",
    "# 5\n",
    "# batch 32 epochs = 30 add dropout\n",
    "# new_model = load_model('./model/basic_model-best-model-2020-10-11_16-41-12.h5')\n",
    "# 4\n",
    "# batch 32 epochs = 30 add Right-left flip, Up and Down flip, empty gesture first 6 frames and last 6 frames\n",
    "# new_model = load_model('./model/basic_model-best-model-2020-10-09_20-11-11.h5')\n",
    "# 3\n",
    "# batch 32 epochs = 30 add Right-left flip, Up and Down flip\n",
    "# new_model = load_model('./model/basic_model-best-model-2020-10-08_17-28-03.h5')\n",
    "# 2\n",
    "# batch 32 epochs = 30 add Right-left flip\n",
    "# new_model = load_model('./model/basic_model-best-model-rlf.h5')\n",
    "# 1\n",
    "# orginal\n",
    "new_model = load_model('./model/basic_model-best-model.h5')"
   ]
  },
  {
   "cell_type": "code",
   "execution_count": null,
   "metadata": {},
   "outputs": [],
   "source": [
    "# 5\n",
    "# Class 7, 前、中2、後, Gray\n",
    "# new_model = load_model('./model/basic_model-best-model-2020-10-27_16-19-10.h5')\n",
    "# new_model2 = load_model('./model/basic_model-best-model-2020-10-27_16-19-10-v2.h5')\n",
    "\n",
    "# 4\n",
    "# Class 7, 前、中2、後, RGB\n",
    "# new_model = load_model('./model/basic_model-best-model-2020-10-27_07-21-28.h5')\n",
    "# new_model2 = load_model('./model/basic_model-best-model-2020-10-27_07-21-28-v2.h5')\n",
    "\n",
    "# 3\n",
    "# Class 7, 前、中、後, Gray\n",
    "# new_model = load_model('./model/basic_model-best-model-2020-10-26_14-19-30.h5')\n",
    "# new_model2 = load_model('./model/basic_model-best-model-2020-10-26_14-19-30-v2.h5')\n",
    "\n",
    "# Class 6,  *1x6、前、中2、後、nx6*, Gray\n",
    "# new_model = load_model('./model/basic_model-best-model-2020-10-25_20-11-36.h5')\n",
    "\n",
    "# 1-2\n",
    "# Class 7, 前、中、後, RGB\n",
    "# new_model2 = load_model('./model/basic_model-best-model-2020-10-25_09-31-51.h5')\n",
    "\n",
    "# 1-1\n",
    "# Class 7, 前、中、後, RGB\n",
    "# new_model = load_model('./model/basic_model-best-model-2020-10-24_21-50-57.h5')"
   ]
  },
  {
   "cell_type": "code",
   "execution_count": 11,
   "metadata": {},
   "outputs": [
    {
     "name": "stdout",
     "output_type": "stream",
     "text": [
      "Sat Oct 24 16:26:07 2020\n",
      "345/1 [==============================================================================================================================================================================================================================================================================================================================================================================================================================================================================================================================================================================================================================================================================================================================================================================================================================================================================================================================================================================================================================================================================================================================================================================================================================================================================================================================================================================================================================================================================================================================================================================================================================================================================================================================================================================================================================================================================================================================================================================================================================================================================================================================================================================================================================================================================================================================================================================================================================================================================================================================================================================================================================================================================================================================================================================================================================================================================================================================================================================================================================================================================================================================================================================================================================================================================================================================================================================================================================================================================================================================================================================================================================================================================================================================================================================================================================================================================================================================================================================================================================================================================================================================================================================================================================================================================================================================================================================================================================================================================================================================================================================================================================================================================================================================================================================================================================================================================================================================================================================================================================================================================================================================================================================================================================================================================================================================================================================================================================================================================================================================================================================================================================================================================================================================================================================================================================================================================================================================================================================================================================================================================================================================================================================================================================================================================================================================================================================================================================================================================================================================================================================================================================================================================================================================================================================================================================================================================================================================================================================================================================================================================================================================================================================================================================================================================================================================================================================================================================================================================================================================================================================================================================================================================================================================================================================================================================================================================================================================================================================================================================================================================================================================================================================================================================================================================================================================================================================================================================================================================================================================================================================================================================================================================================================================================================================================================================================================================================================================================================================================================================================================================================================================================================================================================================================================================================================================================================================================================================================================================================================================================================================================================================================================================================================================================================================================================================================================================================================================================================================================================================================================================================================================================================================================================================================================================================================================================================================================================================================================================================================================================================================================================================================================================================================================================================================] - 6s 18ms/sample - loss: 0.8974 - accuracy: 0.7594\n",
      "Sat Oct 24 16:26:14 2020\n"
     ]
    }
   ],
   "source": [
    "print(ctime())\n",
    "val_loss,val_accuracy = new_model.evaluate(X_val_5,Y_val_5)\n",
    "print(ctime())"
   ]
  },
  {
   "cell_type": "code",
   "execution_count": 15,
   "metadata": {},
   "outputs": [],
   "source": [
    "pred_5 = new_model.predict(X_val_5.astype('float32'))"
   ]
  },
  {
   "cell_type": "code",
   "execution_count": 12,
   "metadata": {},
   "outputs": [],
   "source": [
    "from sklearn.metrics import f1_score, precision_score, recall_score, confusion_matrix\n",
    "from sklearn.metrics import classification_report"
   ]
  },
  {
   "cell_type": "code",
   "execution_count": 25,
   "metadata": {},
   "outputs": [
    {
     "name": "stdout",
     "output_type": "stream",
     "text": [
      "              precision    recall  f1-score   support\n",
      "\n",
      "           0       0.98      0.96      0.97        55\n",
      "           1       0.85      0.98      0.91        53\n",
      "           2       0.69      0.67      0.68        54\n",
      "           3       0.64      0.70      0.67        53\n",
      "           4       0.70      0.78      0.74        65\n",
      "           5       0.91      0.66      0.77        65\n",
      "\n",
      "    accuracy                           0.79       345\n",
      "   macro avg       0.80      0.79      0.79       345\n",
      "weighted avg       0.80      0.79      0.79       345\n",
      "\n"
     ]
    }
   ],
   "source": [
    "print(classification_report(np.argmax(Y_val_5, axis=1), np.argmax(pred_5, axis=1)))"
   ]
  },
  {
   "cell_type": "code",
   "execution_count": 26,
   "metadata": {},
   "outputs": [
    {
     "name": "stdout",
     "output_type": "stream",
     "text": [
      "[[53  0  0  1  1  0]\n",
      " [ 0 52  0  1  0  0]\n",
      " [ 0  0 36 18  0  0]\n",
      " [ 0  0 16 37  0  0]\n",
      " [ 0  9  0  1 51  4]\n",
      " [ 1  0  0  0 21 43]]\n"
     ]
    }
   ],
   "source": [
    "CM_5 = confusion_matrix(np.argmax(Y_val_5, axis=1), np.argmax(pred_5, axis=1))\n",
    "print(CM_5)"
   ]
  },
  {
   "cell_type": "code",
   "execution_count": null,
   "metadata": {},
   "outputs": [],
   "source": []
  },
  {
   "cell_type": "code",
   "execution_count": 27,
   "metadata": {},
   "outputs": [
    {
     "data": {
      "image/png": "[encoded data removed]",
      "text/plain": [
       "<Figure size 432x288 with 2 Axes>"
      ]
     },
     "metadata": {
      "needs_background": "light"
     },
     "output_type": "display_data"
    }
   ],
   "source": [
    "import seaborn as sns\n",
    "labels = ['SwipingLeft','SwipingRight', 'SwipingDown', 'SwipingUp', 'TurningHandClockwise', 'TurningHandCounterclockwise']\n",
    "\n",
    "# sns.heatmap(CM_5,annot=True,cmap='Blues',xticklabels=labels,yticklabels=labels)\n",
    "sns.heatmap(CM_5,annot=True,cmap='Blues')\n",
    "\n",
    "plt.show()"
   ]
  },
  {
   "cell_type": "code",
   "execution_count": 46,
   "metadata": {},
   "outputs": [],
   "source": [
    "# ML"
   ]
  },
  {
   "cell_type": "code",
   "execution_count": 47,
   "metadata": {},
   "outputs": [],
   "source": [
    "import pickle\n",
    "from tensorflow.keras.models import Model, load_model"
   ]
  },
  {
   "cell_type": "code",
   "execution_count": 48,
   "metadata": {},
   "outputs": [],
   "source": [
    "new_model_ML = load_model('./model/basic_model-best-model-2020-10-11_16-41-12.h5')"
   ]
  },
  {
   "cell_type": "code",
   "execution_count": 59,
   "metadata": {},
   "outputs": [],
   "source": [
    "# model_feat = Model(inputs = new_model_ML.input, outputs = new_model_ML.get_layer('flatten').output)\n",
    "model_feat = Model(inputs = new_model_ML.input, outputs = new_model_ML.get_layer('dense').output)"
   ]
  },
  {
   "cell_type": "code",
   "execution_count": 60,
   "metadata": {},
   "outputs": [
    {
     "name": "stdout",
     "output_type": "stream",
     "text": [
      "(345, 4096)\n"
     ]
    }
   ],
   "source": [
    "feat_test_5 = model_feat.predict(X_val_5)\n",
    "print(feat_test_5.shape)"
   ]
  },
  {
   "cell_type": "code",
   "execution_count": 61,
   "metadata": {},
   "outputs": [],
   "source": [
    "# with open('./ML_model/svm_1011_flatten.pickle', \"rb\") as f:\n",
    "with open('./ML_model/svm_1011.pickle', \"rb\") as f:\n",
    "    svm_model_loaded =pickle.load(f)\n",
    "svm_pred_5 = svm_model_loaded.predict(feat_test_5)"
   ]
  },
  {
   "cell_type": "code",
   "execution_count": 62,
   "metadata": {},
   "outputs": [
    {
     "name": "stdout",
     "output_type": "stream",
     "text": [
      "[[55  0  0  0  0  0]\n",
      " [ 3 50  0  0  0  0]\n",
      " [ 1  1 39 13  0  0]\n",
      " [ 0  2 18 33  0  0]\n",
      " [ 0  8  0  0 51  6]\n",
      " [ 4  0  0  0  8 53]]\n"
     ]
    }
   ],
   "source": [
    "CM_SVM_5 = confusion_matrix(np.argmax(Y_val_5, axis=1), svm_pred_5)\n",
    "print(CM_SVM_5)"
   ]
  },
  {
   "cell_type": "code",
   "execution_count": 63,
   "metadata": {},
   "outputs": [
    {
     "data": {
      "image/png": "[encoded data removed]",
      "text/plain": [
       "<Figure size 432x288 with 2 Axes>"
      ]
     },
     "metadata": {
      "needs_background": "light"
     },
     "output_type": "display_data"
    }
   ],
   "source": [
    "import seaborn as sns\n",
    "labels = ['SwipingLeft','SwipingRight', 'SwipingDown', 'SwipingUp', 'TurningHandClockwise', 'TurningHandCounterclockwise']\n",
    "\n",
    "# sns.heatmap(CM_SVM_5,annot=True,cmap='Blues',xticklabels=labels,yticklabels=labels)\n",
    "sns.heatmap(CM_SVM_5,annot=True,cmap='Blues')\n",
    "plt.show()"
   ]
  },
  {
   "cell_type": "code",
   "execution_count": 64,
   "metadata": {},
   "outputs": [
    {
     "name": "stdout",
     "output_type": "stream",
     "text": [
      "              precision    recall  f1-score   support\n",
      "\n",
      "           0       0.87      1.00      0.93        55\n",
      "           1       0.82      0.94      0.88        53\n",
      "           2       0.68      0.72      0.70        54\n",
      "           3       0.72      0.62      0.67        53\n",
      "           4       0.86      0.78      0.82        65\n",
      "           5       0.90      0.82      0.85        65\n",
      "\n",
      "    accuracy                           0.81       345\n",
      "   macro avg       0.81      0.81      0.81       345\n",
      "weighted avg       0.81      0.81      0.81       345\n",
      "\n"
     ]
    }
   ],
   "source": [
    "print(classification_report(np.argmax(Y_val_5, axis=1), svm_pred_5))"
   ]
  },
  {
   "cell_type": "code",
   "execution_count": null,
   "metadata": {},
   "outputs": [],
   "source": []
  },
  {
   "cell_type": "code",
   "execution_count": 65,
   "metadata": {},
   "outputs": [],
   "source": [
    "# XGB\n",
    "# with open('./ML_model/xgb_1011_flatten.pickle', \"rb\") as f:\n",
    "with open('./ML_model/xgb_1011.pickle', \"rb\") as f:\n",
    "    xgb_model_loaded =pickle.load(f)\n",
    "xgb_pred_5 = xgb_model_loaded.predict(feat_test_5)"
   ]
  },
  {
   "cell_type": "code",
   "execution_count": 66,
   "metadata": {},
   "outputs": [
    {
     "name": "stdout",
     "output_type": "stream",
     "text": [
      "[[55  0  0  0  0  0]\n",
      " [ 0 53  0  0  0  0]\n",
      " [ 3  1 40 10  0  0]\n",
      " [ 0  1 18 34  0  0]\n",
      " [ 0  8  0  0 51  6]\n",
      " [ 4  0  1  0 13 47]]\n"
     ]
    }
   ],
   "source": [
    "CM_XGB_5 = confusion_matrix(np.argmax(Y_val_5, axis=1), xgb_pred_5)\n",
    "print(CM_XGB_5)"
   ]
  },
  {
   "cell_type": "code",
   "execution_count": 67,
   "metadata": {},
   "outputs": [
    {
     "data": {
      "image/png": "[encoded data removed]",
      "text/plain": [
       "<Figure size 432x288 with 2 Axes>"
      ]
     },
     "metadata": {
      "needs_background": "light"
     },
     "output_type": "display_data"
    }
   ],
   "source": [
    "import seaborn as sns\n",
    "labels = ['SwipingLeft','SwipingRight', 'SwipingDown', 'SwipingUp', 'TurningHandClockwise', 'TurningHandCounterclockwise']\n",
    "\n",
    "# sns.heatmap(CM_XGB_5,annot=True,cmap='Blues',xticklabels=labels,yticklabels=labels)\n",
    "sns.heatmap(CM_XGB_5,annot=True,cmap='Blues')\n",
    "plt.show()"
   ]
  },
  {
   "cell_type": "code",
   "execution_count": 68,
   "metadata": {},
   "outputs": [
    {
     "name": "stdout",
     "output_type": "stream",
     "text": [
      "              precision    recall  f1-score   support\n",
      "\n",
      "           0       0.89      1.00      0.94        55\n",
      "           1       0.84      1.00      0.91        53\n",
      "           2       0.68      0.74      0.71        54\n",
      "           3       0.77      0.64      0.70        53\n",
      "           4       0.80      0.78      0.79        65\n",
      "           5       0.89      0.72      0.80        65\n",
      "\n",
      "    accuracy                           0.81       345\n",
      "   macro avg       0.81      0.81      0.81       345\n",
      "weighted avg       0.81      0.81      0.81       345\n",
      "\n"
     ]
    }
   ],
   "source": [
    "print(classification_report(np.argmax(Y_val_5, axis=1), xgb_pred_5))"
   ]
  },
  {
   "cell_type": "code",
   "execution_count": null,
   "metadata": {},
   "outputs": [],
   "source": []
  }
 ],
 "metadata": {
  "kernelspec": {
   "display_name": "Python 3",
   "language": "python",
   "name": "python3"
  },
  "language_info": {
   "codemirror_mode": {
    "name": "ipython",
    "version": 3
   },
   "file_extension": ".py",
   "mimetype": "text/x-python",
   "name": "python",
   "nbconvert_exporter": "python",
   "pygments_lexer": "ipython3",
   "version": "3.7.3"
  }
 },
 "nbformat": 4,
 "nbformat_minor": 4
}
